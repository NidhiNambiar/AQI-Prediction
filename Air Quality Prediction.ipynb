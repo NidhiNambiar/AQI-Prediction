{
 "cells": [
  {
   "cell_type": "markdown",
   "id": "10620f33",
   "metadata": {},
   "source": [
    "# TEAM 4 - AIR QUALITY PREDICTION"
   ]
  },
  {
   "cell_type": "markdown",
   "id": "ace954bc",
   "metadata": {},
   "source": [
    "## Importing the libraries and loading the data"
   ]
  },
  {
   "cell_type": "code",
   "execution_count": 2,
   "id": "0cd0710a",
   "metadata": {},
   "outputs": [],
   "source": [
    "import pandas as pd\n",
    "import numpy as np\n",
    "from matplotlib import pyplot as plt\n",
    "%matplotlib inline\n",
    "import matplotlib\n",
    "matplotlib.rcParams[\"figure.figsize\"] = (20, 10)\n",
    "import seaborn as sns\n",
    "import plotly.express as px\n",
    "import plotly.figure_factory as ff"
   ]
  },
  {
   "cell_type": "code",
   "execution_count": 3,
   "id": "19863751",
   "metadata": {},
   "outputs": [],
   "source": [
    "#Loading the file\n",
    "filepath = r\"C:\\Users\\adhir\\OneDrive\\Desktop\\Adhira\\737\\daily_44201_2022.csv\"\n",
    "df = pd.read_csv(filepath)"
   ]
  },
  {
   "cell_type": "code",
   "execution_count": 4,
   "id": "3ca9b2c6",
   "metadata": {},
   "outputs": [
    {
     "data": {
      "text/html": [
       "<div>\n",
       "<style scoped>\n",
       "    .dataframe tbody tr th:only-of-type {\n",
       "        vertical-align: middle;\n",
       "    }\n",
       "\n",
       "    .dataframe tbody tr th {\n",
       "        vertical-align: top;\n",
       "    }\n",
       "\n",
       "    .dataframe thead th {\n",
       "        text-align: right;\n",
       "    }\n",
       "</style>\n",
       "<table border=\"1\" class=\"dataframe\">\n",
       "  <thead>\n",
       "    <tr style=\"text-align: right;\">\n",
       "      <th></th>\n",
       "      <th>State Code</th>\n",
       "      <th>County Code</th>\n",
       "      <th>Site Num</th>\n",
       "      <th>Parameter Code</th>\n",
       "      <th>POC</th>\n",
       "      <th>Latitude</th>\n",
       "      <th>Longitude</th>\n",
       "      <th>Datum</th>\n",
       "      <th>Parameter Name</th>\n",
       "      <th>Sample Duration</th>\n",
       "      <th>...</th>\n",
       "      <th>AQI</th>\n",
       "      <th>Method Code</th>\n",
       "      <th>Method Name</th>\n",
       "      <th>Local Site Name</th>\n",
       "      <th>Address</th>\n",
       "      <th>State Name</th>\n",
       "      <th>County Name</th>\n",
       "      <th>City Name</th>\n",
       "      <th>CBSA Name</th>\n",
       "      <th>Date of Last Change</th>\n",
       "    </tr>\n",
       "  </thead>\n",
       "  <tbody>\n",
       "    <tr>\n",
       "      <th>0</th>\n",
       "      <td>1</td>\n",
       "      <td>3</td>\n",
       "      <td>10</td>\n",
       "      <td>44201</td>\n",
       "      <td>1</td>\n",
       "      <td>30.497478</td>\n",
       "      <td>-87.880258</td>\n",
       "      <td>NAD83</td>\n",
       "      <td>Ozone</td>\n",
       "      <td>8-HR RUN AVG BEGIN HOUR</td>\n",
       "      <td>...</td>\n",
       "      <td>35</td>\n",
       "      <td>NaN</td>\n",
       "      <td>-</td>\n",
       "      <td>FAIRHOPE, Alabama</td>\n",
       "      <td>FAIRHOPE HIGH SCHOOL, 1 PIRATE DRIVE, FAIRHOPE...</td>\n",
       "      <td>Alabama</td>\n",
       "      <td>Baldwin</td>\n",
       "      <td>Fairhope</td>\n",
       "      <td>Daphne-Fairhope-Foley, AL</td>\n",
       "      <td>2022-09-08</td>\n",
       "    </tr>\n",
       "    <tr>\n",
       "      <th>1</th>\n",
       "      <td>1</td>\n",
       "      <td>3</td>\n",
       "      <td>10</td>\n",
       "      <td>44201</td>\n",
       "      <td>1</td>\n",
       "      <td>30.497478</td>\n",
       "      <td>-87.880258</td>\n",
       "      <td>NAD83</td>\n",
       "      <td>Ozone</td>\n",
       "      <td>8-HR RUN AVG BEGIN HOUR</td>\n",
       "      <td>...</td>\n",
       "      <td>50</td>\n",
       "      <td>NaN</td>\n",
       "      <td>-</td>\n",
       "      <td>FAIRHOPE, Alabama</td>\n",
       "      <td>FAIRHOPE HIGH SCHOOL, 1 PIRATE DRIVE, FAIRHOPE...</td>\n",
       "      <td>Alabama</td>\n",
       "      <td>Baldwin</td>\n",
       "      <td>Fairhope</td>\n",
       "      <td>Daphne-Fairhope-Foley, AL</td>\n",
       "      <td>2022-09-08</td>\n",
       "    </tr>\n",
       "    <tr>\n",
       "      <th>2</th>\n",
       "      <td>1</td>\n",
       "      <td>3</td>\n",
       "      <td>10</td>\n",
       "      <td>44201</td>\n",
       "      <td>1</td>\n",
       "      <td>30.497478</td>\n",
       "      <td>-87.880258</td>\n",
       "      <td>NAD83</td>\n",
       "      <td>Ozone</td>\n",
       "      <td>8-HR RUN AVG BEGIN HOUR</td>\n",
       "      <td>...</td>\n",
       "      <td>51</td>\n",
       "      <td>NaN</td>\n",
       "      <td>-</td>\n",
       "      <td>FAIRHOPE, Alabama</td>\n",
       "      <td>FAIRHOPE HIGH SCHOOL, 1 PIRATE DRIVE, FAIRHOPE...</td>\n",
       "      <td>Alabama</td>\n",
       "      <td>Baldwin</td>\n",
       "      <td>Fairhope</td>\n",
       "      <td>Daphne-Fairhope-Foley, AL</td>\n",
       "      <td>2022-09-08</td>\n",
       "    </tr>\n",
       "    <tr>\n",
       "      <th>3</th>\n",
       "      <td>1</td>\n",
       "      <td>3</td>\n",
       "      <td>10</td>\n",
       "      <td>44201</td>\n",
       "      <td>1</td>\n",
       "      <td>30.497478</td>\n",
       "      <td>-87.880258</td>\n",
       "      <td>NAD83</td>\n",
       "      <td>Ozone</td>\n",
       "      <td>8-HR RUN AVG BEGIN HOUR</td>\n",
       "      <td>...</td>\n",
       "      <td>40</td>\n",
       "      <td>NaN</td>\n",
       "      <td>-</td>\n",
       "      <td>FAIRHOPE, Alabama</td>\n",
       "      <td>FAIRHOPE HIGH SCHOOL, 1 PIRATE DRIVE, FAIRHOPE...</td>\n",
       "      <td>Alabama</td>\n",
       "      <td>Baldwin</td>\n",
       "      <td>Fairhope</td>\n",
       "      <td>Daphne-Fairhope-Foley, AL</td>\n",
       "      <td>2022-09-08</td>\n",
       "    </tr>\n",
       "    <tr>\n",
       "      <th>4</th>\n",
       "      <td>1</td>\n",
       "      <td>3</td>\n",
       "      <td>10</td>\n",
       "      <td>44201</td>\n",
       "      <td>1</td>\n",
       "      <td>30.497478</td>\n",
       "      <td>-87.880258</td>\n",
       "      <td>NAD83</td>\n",
       "      <td>Ozone</td>\n",
       "      <td>8-HR RUN AVG BEGIN HOUR</td>\n",
       "      <td>...</td>\n",
       "      <td>77</td>\n",
       "      <td>NaN</td>\n",
       "      <td>-</td>\n",
       "      <td>FAIRHOPE, Alabama</td>\n",
       "      <td>FAIRHOPE HIGH SCHOOL, 1 PIRATE DRIVE, FAIRHOPE...</td>\n",
       "      <td>Alabama</td>\n",
       "      <td>Baldwin</td>\n",
       "      <td>Fairhope</td>\n",
       "      <td>Daphne-Fairhope-Foley, AL</td>\n",
       "      <td>2022-09-08</td>\n",
       "    </tr>\n",
       "  </tbody>\n",
       "</table>\n",
       "<p>5 rows × 29 columns</p>\n",
       "</div>"
      ],
      "text/plain": [
       "   State Code  County Code  Site Num  Parameter Code  POC   Latitude  \\\n",
       "0           1            3        10           44201    1  30.497478   \n",
       "1           1            3        10           44201    1  30.497478   \n",
       "2           1            3        10           44201    1  30.497478   \n",
       "3           1            3        10           44201    1  30.497478   \n",
       "4           1            3        10           44201    1  30.497478   \n",
       "\n",
       "   Longitude  Datum Parameter Name          Sample Duration  ... AQI  \\\n",
       "0 -87.880258  NAD83          Ozone  8-HR RUN AVG BEGIN HOUR  ...  35   \n",
       "1 -87.880258  NAD83          Ozone  8-HR RUN AVG BEGIN HOUR  ...  50   \n",
       "2 -87.880258  NAD83          Ozone  8-HR RUN AVG BEGIN HOUR  ...  51   \n",
       "3 -87.880258  NAD83          Ozone  8-HR RUN AVG BEGIN HOUR  ...  40   \n",
       "4 -87.880258  NAD83          Ozone  8-HR RUN AVG BEGIN HOUR  ...  77   \n",
       "\n",
       "  Method Code Method Name    Local Site Name  \\\n",
       "0         NaN          -   FAIRHOPE, Alabama   \n",
       "1         NaN          -   FAIRHOPE, Alabama   \n",
       "2         NaN          -   FAIRHOPE, Alabama   \n",
       "3         NaN          -   FAIRHOPE, Alabama   \n",
       "4         NaN          -   FAIRHOPE, Alabama   \n",
       "\n",
       "                                             Address  State Name  County Name  \\\n",
       "0  FAIRHOPE HIGH SCHOOL, 1 PIRATE DRIVE, FAIRHOPE...     Alabama      Baldwin   \n",
       "1  FAIRHOPE HIGH SCHOOL, 1 PIRATE DRIVE, FAIRHOPE...     Alabama      Baldwin   \n",
       "2  FAIRHOPE HIGH SCHOOL, 1 PIRATE DRIVE, FAIRHOPE...     Alabama      Baldwin   \n",
       "3  FAIRHOPE HIGH SCHOOL, 1 PIRATE DRIVE, FAIRHOPE...     Alabama      Baldwin   \n",
       "4  FAIRHOPE HIGH SCHOOL, 1 PIRATE DRIVE, FAIRHOPE...     Alabama      Baldwin   \n",
       "\n",
       "   City Name                  CBSA Name  Date of Last Change  \n",
       "0   Fairhope  Daphne-Fairhope-Foley, AL           2022-09-08  \n",
       "1   Fairhope  Daphne-Fairhope-Foley, AL           2022-09-08  \n",
       "2   Fairhope  Daphne-Fairhope-Foley, AL           2022-09-08  \n",
       "3   Fairhope  Daphne-Fairhope-Foley, AL           2022-09-08  \n",
       "4   Fairhope  Daphne-Fairhope-Foley, AL           2022-09-08  \n",
       "\n",
       "[5 rows x 29 columns]"
      ]
     },
     "execution_count": 4,
     "metadata": {},
     "output_type": "execute_result"
    }
   ],
   "source": [
    "df.head()"
   ]
  },
  {
   "cell_type": "markdown",
   "id": "bc29db0c",
   "metadata": {},
   "source": [
    "# Discriptive Statistics for the data"
   ]
  },
  {
   "cell_type": "code",
   "execution_count": 5,
   "id": "70218504",
   "metadata": {},
   "outputs": [
    {
     "data": {
      "text/html": [
       "<div>\n",
       "<style scoped>\n",
       "    .dataframe tbody tr th:only-of-type {\n",
       "        vertical-align: middle;\n",
       "    }\n",
       "\n",
       "    .dataframe tbody tr th {\n",
       "        vertical-align: top;\n",
       "    }\n",
       "\n",
       "    .dataframe thead th {\n",
       "        text-align: right;\n",
       "    }\n",
       "</style>\n",
       "<table border=\"1\" class=\"dataframe\">\n",
       "  <thead>\n",
       "    <tr style=\"text-align: right;\">\n",
       "      <th></th>\n",
       "      <th>State Code</th>\n",
       "      <th>County Code</th>\n",
       "      <th>Site Num</th>\n",
       "      <th>Parameter Code</th>\n",
       "      <th>POC</th>\n",
       "      <th>Latitude</th>\n",
       "      <th>Longitude</th>\n",
       "      <th>Observation Count</th>\n",
       "      <th>Observation Percent</th>\n",
       "      <th>Arithmetic Mean</th>\n",
       "      <th>1st Max Value</th>\n",
       "      <th>1st Max Hour</th>\n",
       "      <th>AQI</th>\n",
       "      <th>Method Code</th>\n",
       "    </tr>\n",
       "  </thead>\n",
       "  <tbody>\n",
       "    <tr>\n",
       "      <th>count</th>\n",
       "      <td>233601.000000</td>\n",
       "      <td>233601.000000</td>\n",
       "      <td>233601.000000</td>\n",
       "      <td>233601.0</td>\n",
       "      <td>233601.000000</td>\n",
       "      <td>233601.000000</td>\n",
       "      <td>233601.000000</td>\n",
       "      <td>233601.000000</td>\n",
       "      <td>233601.000000</td>\n",
       "      <td>233601.000000</td>\n",
       "      <td>233601.000000</td>\n",
       "      <td>233601.000000</td>\n",
       "      <td>233601.000000</td>\n",
       "      <td>0.0</td>\n",
       "    </tr>\n",
       "    <tr>\n",
       "      <th>mean</th>\n",
       "      <td>27.510824</td>\n",
       "      <td>76.674882</td>\n",
       "      <td>1352.687934</td>\n",
       "      <td>44201.0</td>\n",
       "      <td>1.092371</td>\n",
       "      <td>37.785097</td>\n",
       "      <td>-94.394857</td>\n",
       "      <td>16.791880</td>\n",
       "      <td>98.789843</td>\n",
       "      <td>0.034265</td>\n",
       "      <td>0.042542</td>\n",
       "      <td>10.799046</td>\n",
       "      <td>41.095265</td>\n",
       "      <td>NaN</td>\n",
       "    </tr>\n",
       "    <tr>\n",
       "      <th>std</th>\n",
       "      <td>16.518729</td>\n",
       "      <td>79.665965</td>\n",
       "      <td>2713.754708</td>\n",
       "      <td>0.0</td>\n",
       "      <td>0.358584</td>\n",
       "      <td>4.910066</td>\n",
       "      <td>15.628597</td>\n",
       "      <td>1.253237</td>\n",
       "      <td>7.305170</td>\n",
       "      <td>0.009969</td>\n",
       "      <td>0.010775</td>\n",
       "      <td>3.085993</td>\n",
       "      <td>14.863765</td>\n",
       "      <td>NaN</td>\n",
       "    </tr>\n",
       "    <tr>\n",
       "      <th>min</th>\n",
       "      <td>1.000000</td>\n",
       "      <td>1.000000</td>\n",
       "      <td>1.000000</td>\n",
       "      <td>44201.0</td>\n",
       "      <td>1.000000</td>\n",
       "      <td>18.216038</td>\n",
       "      <td>-158.088613</td>\n",
       "      <td>1.000000</td>\n",
       "      <td>6.000000</td>\n",
       "      <td>0.000000</td>\n",
       "      <td>0.000000</td>\n",
       "      <td>7.000000</td>\n",
       "      <td>0.000000</td>\n",
       "      <td>NaN</td>\n",
       "    </tr>\n",
       "    <tr>\n",
       "      <th>25%</th>\n",
       "      <td>12.000000</td>\n",
       "      <td>23.000000</td>\n",
       "      <td>6.000000</td>\n",
       "      <td>44201.0</td>\n",
       "      <td>1.000000</td>\n",
       "      <td>34.210169</td>\n",
       "      <td>-107.977567</td>\n",
       "      <td>17.000000</td>\n",
       "      <td>100.000000</td>\n",
       "      <td>0.027588</td>\n",
       "      <td>0.036000</td>\n",
       "      <td>9.000000</td>\n",
       "      <td>33.000000</td>\n",
       "      <td>NaN</td>\n",
       "    </tr>\n",
       "    <tr>\n",
       "      <th>50%</th>\n",
       "      <td>27.000000</td>\n",
       "      <td>59.000000</td>\n",
       "      <td>23.000000</td>\n",
       "      <td>44201.0</td>\n",
       "      <td>1.000000</td>\n",
       "      <td>38.587525</td>\n",
       "      <td>-90.521944</td>\n",
       "      <td>17.000000</td>\n",
       "      <td>100.000000</td>\n",
       "      <td>0.034412</td>\n",
       "      <td>0.042000</td>\n",
       "      <td>10.000000</td>\n",
       "      <td>39.000000</td>\n",
       "      <td>NaN</td>\n",
       "    </tr>\n",
       "    <tr>\n",
       "      <th>75%</th>\n",
       "      <td>40.000000</td>\n",
       "      <td>103.000000</td>\n",
       "      <td>1012.000000</td>\n",
       "      <td>44201.0</td>\n",
       "      <td>1.000000</td>\n",
       "      <td>41.247486</td>\n",
       "      <td>-82.100646</td>\n",
       "      <td>17.000000</td>\n",
       "      <td>100.000000</td>\n",
       "      <td>0.041000</td>\n",
       "      <td>0.049000</td>\n",
       "      <td>11.000000</td>\n",
       "      <td>45.000000</td>\n",
       "      <td>NaN</td>\n",
       "    </tr>\n",
       "    <tr>\n",
       "      <th>max</th>\n",
       "      <td>80.000000</td>\n",
       "      <td>800.000000</td>\n",
       "      <td>9997.000000</td>\n",
       "      <td>44201.0</td>\n",
       "      <td>6.000000</td>\n",
       "      <td>64.845690</td>\n",
       "      <td>-66.150615</td>\n",
       "      <td>17.000000</td>\n",
       "      <td>100.000000</td>\n",
       "      <td>0.124765</td>\n",
       "      <td>0.166000</td>\n",
       "      <td>23.000000</td>\n",
       "      <td>264.000000</td>\n",
       "      <td>NaN</td>\n",
       "    </tr>\n",
       "  </tbody>\n",
       "</table>\n",
       "</div>"
      ],
      "text/plain": [
       "          State Code    County Code       Site Num  Parameter Code  \\\n",
       "count  233601.000000  233601.000000  233601.000000        233601.0   \n",
       "mean       27.510824      76.674882    1352.687934         44201.0   \n",
       "std        16.518729      79.665965    2713.754708             0.0   \n",
       "min         1.000000       1.000000       1.000000         44201.0   \n",
       "25%        12.000000      23.000000       6.000000         44201.0   \n",
       "50%        27.000000      59.000000      23.000000         44201.0   \n",
       "75%        40.000000     103.000000    1012.000000         44201.0   \n",
       "max        80.000000     800.000000    9997.000000         44201.0   \n",
       "\n",
       "                 POC       Latitude      Longitude  Observation Count  \\\n",
       "count  233601.000000  233601.000000  233601.000000      233601.000000   \n",
       "mean        1.092371      37.785097     -94.394857          16.791880   \n",
       "std         0.358584       4.910066      15.628597           1.253237   \n",
       "min         1.000000      18.216038    -158.088613           1.000000   \n",
       "25%         1.000000      34.210169    -107.977567          17.000000   \n",
       "50%         1.000000      38.587525     -90.521944          17.000000   \n",
       "75%         1.000000      41.247486     -82.100646          17.000000   \n",
       "max         6.000000      64.845690     -66.150615          17.000000   \n",
       "\n",
       "       Observation Percent  Arithmetic Mean  1st Max Value   1st Max Hour  \\\n",
       "count        233601.000000    233601.000000  233601.000000  233601.000000   \n",
       "mean             98.789843         0.034265       0.042542      10.799046   \n",
       "std               7.305170         0.009969       0.010775       3.085993   \n",
       "min               6.000000         0.000000       0.000000       7.000000   \n",
       "25%             100.000000         0.027588       0.036000       9.000000   \n",
       "50%             100.000000         0.034412       0.042000      10.000000   \n",
       "75%             100.000000         0.041000       0.049000      11.000000   \n",
       "max             100.000000         0.124765       0.166000      23.000000   \n",
       "\n",
       "                 AQI  Method Code  \n",
       "count  233601.000000          0.0  \n",
       "mean       41.095265          NaN  \n",
       "std        14.863765          NaN  \n",
       "min         0.000000          NaN  \n",
       "25%        33.000000          NaN  \n",
       "50%        39.000000          NaN  \n",
       "75%        45.000000          NaN  \n",
       "max       264.000000          NaN  "
      ]
     },
     "execution_count": 5,
     "metadata": {},
     "output_type": "execute_result"
    }
   ],
   "source": [
    "# Display the descriptive statistics\n",
    "df.describe()"
   ]
  },
  {
   "cell_type": "code",
   "execution_count": 6,
   "id": "ec197ab4",
   "metadata": {},
   "outputs": [
    {
     "name": "stdout",
     "output_type": "stream",
     "text": [
      "       Arithmetic Mean            AQI  1st Max Value   1st Max Hour\n",
      "count    233601.000000  233601.000000  233601.000000  233601.000000\n",
      "mean          0.034265      41.095265       0.042542      10.799046\n",
      "std           0.009969      14.863765       0.010775       3.085993\n",
      "min           0.000000       0.000000       0.000000       7.000000\n",
      "25%           0.027588      33.000000       0.036000       9.000000\n",
      "50%           0.034412      39.000000       0.042000      10.000000\n",
      "75%           0.041000      45.000000       0.049000      11.000000\n",
      "max           0.124765     264.000000       0.166000      23.000000\n"
     ]
    }
   ],
   "source": [
    "# Display the descriptive statistics for selected colums\n",
    "selected_stats = df[['Arithmetic Mean', 'AQI', '1st Max Value', '1st Max Hour']].describe(percentiles=[.25, .75])\n",
    "print(selected_stats)\n"
   ]
  },
  {
   "cell_type": "code",
   "execution_count": 7,
   "id": "3acd60f9",
   "metadata": {},
   "outputs": [
    {
     "name": "stdout",
     "output_type": "stream",
     "text": [
      "Number of Unique States: 53\n",
      "Number of Unique Counties: 609\n",
      "Number of Unique station: 1151\n"
     ]
    }
   ],
   "source": [
    "# count the number of unique states, county and stations\n",
    "unique_states = df['State Name'].nunique()\n",
    "unique_counties = df['County Name'].nunique()\n",
    "unique_station = df['Local Site Name'].nunique()\n",
    "\n",
    "# Print the results\n",
    "print(f\"Number of Unique States: {unique_states}\")\n",
    "print(f\"Number of Unique Counties: {unique_counties}\")\n",
    "print(f\"Number of Unique station: {unique_station}\")"
   ]
  },
  {
   "cell_type": "markdown",
   "id": "c8b05338",
   "metadata": {},
   "source": [
    "# Data Cleaning"
   ]
  },
  {
   "cell_type": "code",
   "execution_count": 8,
   "id": "130e107a",
   "metadata": {},
   "outputs": [
    {
     "name": "stdout",
     "output_type": "stream",
     "text": [
      "<class 'pandas.core.frame.DataFrame'>\n",
      "RangeIndex: 233601 entries, 0 to 233600\n",
      "Data columns (total 29 columns):\n",
      " #   Column               Non-Null Count   Dtype  \n",
      "---  ------               --------------   -----  \n",
      " 0   State Code           233601 non-null  int64  \n",
      " 1   County Code          233601 non-null  int64  \n",
      " 2   Site Num             233601 non-null  int64  \n",
      " 3   Parameter Code       233601 non-null  int64  \n",
      " 4   POC                  233601 non-null  int64  \n",
      " 5   Latitude             233601 non-null  float64\n",
      " 6   Longitude            233601 non-null  float64\n",
      " 7   Datum                233601 non-null  object \n",
      " 8   Parameter Name       233601 non-null  object \n",
      " 9   Sample Duration      233601 non-null  object \n",
      " 10  Pollutant Standard   233601 non-null  object \n",
      " 11  Date Local           233601 non-null  object \n",
      " 12  Units of Measure     233601 non-null  object \n",
      " 13  Event Type           233601 non-null  object \n",
      " 14  Observation Count    233601 non-null  int64  \n",
      " 15  Observation Percent  233601 non-null  float64\n",
      " 16  Arithmetic Mean      233601 non-null  float64\n",
      " 17  1st Max Value        233601 non-null  float64\n",
      " 18  1st Max Hour         233601 non-null  int64  \n",
      " 19  AQI                  233601 non-null  int64  \n",
      " 20  Method Code          0 non-null       float64\n",
      " 21  Method Name          233601 non-null  object \n",
      " 22  Local Site Name      226048 non-null  object \n",
      " 23  Address              233420 non-null  object \n",
      " 24  State Name           233601 non-null  object \n",
      " 25  County Name          233601 non-null  object \n",
      " 26  City Name            233601 non-null  object \n",
      " 27  CBSA Name            207247 non-null  object \n",
      " 28  Date of Last Change  233601 non-null  object \n",
      "dtypes: float64(6), int64(8), object(15)\n",
      "memory usage: 51.7+ MB\n"
     ]
    }
   ],
   "source": [
    "df.info()"
   ]
  },
  {
   "cell_type": "code",
   "execution_count": 9,
   "id": "83711384",
   "metadata": {},
   "outputs": [
    {
     "data": {
      "text/plain": [
       "State Code                  0\n",
       "County Code                 0\n",
       "Site Num                    0\n",
       "Parameter Code              0\n",
       "POC                         0\n",
       "Latitude                    0\n",
       "Longitude                   0\n",
       "Datum                       0\n",
       "Parameter Name              0\n",
       "Sample Duration             0\n",
       "Pollutant Standard          0\n",
       "Date Local                  0\n",
       "Units of Measure            0\n",
       "Event Type                  0\n",
       "Observation Count           0\n",
       "Observation Percent         0\n",
       "Arithmetic Mean             0\n",
       "1st Max Value               0\n",
       "1st Max Hour                0\n",
       "AQI                         0\n",
       "Method Code            233601\n",
       "Method Name                 0\n",
       "Local Site Name          7553\n",
       "Address                   181\n",
       "State Name                  0\n",
       "County Name                 0\n",
       "City Name                   0\n",
       "CBSA Name               26354\n",
       "Date of Last Change         0\n",
       "dtype: int64"
      ]
     },
     "execution_count": 9,
     "metadata": {},
     "output_type": "execute_result"
    }
   ],
   "source": [
    "#Identifying the missing values\n",
    "missing_values_count = df.isnull().sum()\n",
    "missing_values_count"
   ]
  },
  {
   "cell_type": "code",
   "execution_count": 10,
   "id": "16574bf5",
   "metadata": {},
   "outputs": [
    {
     "data": {
      "text/plain": [
       "Method Code            100.000000\n",
       "CBSA Name               11.281630\n",
       "Local Site Name          3.233291\n",
       "Address                  0.077483\n",
       "State Code               0.000000\n",
       "Observation Percent      0.000000\n",
       "City Name                0.000000\n",
       "County Name              0.000000\n",
       "State Name               0.000000\n",
       "Method Name              0.000000\n",
       "AQI                      0.000000\n",
       "1st Max Hour             0.000000\n",
       "1st Max Value            0.000000\n",
       "Arithmetic Mean          0.000000\n",
       "Observation Count        0.000000\n",
       "County Code              0.000000\n",
       "Event Type               0.000000\n",
       "Units of Measure         0.000000\n",
       "Date Local               0.000000\n",
       "Pollutant Standard       0.000000\n",
       "Sample Duration          0.000000\n",
       "Parameter Name           0.000000\n",
       "Datum                    0.000000\n",
       "Longitude                0.000000\n",
       "Latitude                 0.000000\n",
       "POC                      0.000000\n",
       "Parameter Code           0.000000\n",
       "Site Num                 0.000000\n",
       "Date of Last Change      0.000000\n",
       "dtype: float64"
      ]
     },
     "execution_count": 10,
     "metadata": {},
     "output_type": "execute_result"
    }
   ],
   "source": [
    "# Let's get the percentage of Null values\n",
    "null_perceentages = df.isna().sum().sort_values(ascending=False) / len(df) * 100\n",
    "null_perceentages"
   ]
  },
  {
   "cell_type": "code",
   "execution_count": 11,
   "id": "3f628844",
   "metadata": {},
   "outputs": [
    {
     "data": {
      "image/png": "[encoded data removed]",
      "text/plain": [
       "<Figure size 864x576 with 1 Axes>"
      ]
     },
     "metadata": {
      "needs_background": "light"
     },
     "output_type": "display_data"
    }
   ],
   "source": [
    "# Plot a bar chat to see the missing peercentage\n",
    "plt.title(\"Percentage of Null Values:\" , fontsize=30)\n",
    "null_perceentages[null_perceentages != 0].plot(figsize=(12,8),kind='barh',grid=True,cmap='inferno');"
   ]
  },
  {
   "cell_type": "markdown",
   "id": "3136fd62",
   "metadata": {},
   "source": [
    "In this dataset, we observe that the 'Method Code' column is entirely missing, and the 'CBSC Name' column has over 10% missing data. Additionally, the 'Local Site Name' column has 3% missing data. It is better to remove the 'Method Code' column since it contains no useful information for our data analysis. Normally, if our columns contained numeric values, we would have considered using the median to fill in missing data. However, all our columns are non-numeric, so it's more appropriate to drop both the 'Site Name' and 'CBSA Name' columns. "
   ]
  },
  {
   "cell_type": "code",
   "execution_count": 12,
   "id": "abd7b7ae",
   "metadata": {},
   "outputs": [],
   "source": [
    "# Remove Unwanted columns which are not used for analysis\n",
    "\n",
    "df1 = df.drop(['Method Code','State Code', 'County Code', 'Site Num', 'Parameter Code','Sample Duration','Pollutant Standard', 'Units of Measure' ,'Method Name'], axis = 'columns')\n"
   ]
  },
  {
   "cell_type": "code",
   "execution_count": 13,
   "id": "96bc3ff1",
   "metadata": {},
   "outputs": [
    {
     "data": {
      "text/plain": [
       "POC                    0\n",
       "Latitude               0\n",
       "Longitude              0\n",
       "Datum                  0\n",
       "Parameter Name         0\n",
       "Date Local             0\n",
       "Event Type             0\n",
       "Observation Count      0\n",
       "Observation Percent    0\n",
       "Arithmetic Mean        0\n",
       "1st Max Value          0\n",
       "1st Max Hour           0\n",
       "AQI                    0\n",
       "Local Site Name        0\n",
       "Address                0\n",
       "State Name             0\n",
       "County Name            0\n",
       "City Name              0\n",
       "CBSA Name              0\n",
       "Date of Last Change    0\n",
       "dtype: int64"
      ]
     },
     "execution_count": 13,
     "metadata": {},
     "output_type": "execute_result"
    }
   ],
   "source": [
    "df2 = df1.dropna()\n",
    "df2.isnull().sum()"
   ]
  },
  {
   "cell_type": "code",
   "execution_count": 14,
   "id": "35fc330f",
   "metadata": {},
   "outputs": [
    {
     "data": {
      "text/html": [
       "<div>\n",
       "<style scoped>\n",
       "    .dataframe tbody tr th:only-of-type {\n",
       "        vertical-align: middle;\n",
       "    }\n",
       "\n",
       "    .dataframe tbody tr th {\n",
       "        vertical-align: top;\n",
       "    }\n",
       "\n",
       "    .dataframe thead th {\n",
       "        text-align: right;\n",
       "    }\n",
       "</style>\n",
       "<table border=\"1\" class=\"dataframe\">\n",
       "  <thead>\n",
       "    <tr style=\"text-align: right;\">\n",
       "      <th></th>\n",
       "      <th>POC</th>\n",
       "      <th>Latitude</th>\n",
       "      <th>Longitude</th>\n",
       "      <th>Datum</th>\n",
       "      <th>Parameter Name</th>\n",
       "      <th>Date Local</th>\n",
       "      <th>Event Type</th>\n",
       "      <th>Observation Count</th>\n",
       "      <th>Observation Percent</th>\n",
       "      <th>Mean_Ozone_Concentration</th>\n",
       "      <th>Max_Ozone_Value</th>\n",
       "      <th>Hour_Max_Ozone_Concentration</th>\n",
       "      <th>Air_Quality_Index</th>\n",
       "      <th>Local Site Name</th>\n",
       "      <th>Address</th>\n",
       "      <th>State Name</th>\n",
       "      <th>County Name</th>\n",
       "      <th>City Name</th>\n",
       "      <th>CBSA Name</th>\n",
       "      <th>Date of Last Change</th>\n",
       "    </tr>\n",
       "  </thead>\n",
       "  <tbody>\n",
       "    <tr>\n",
       "      <th>0</th>\n",
       "      <td>1</td>\n",
       "      <td>30.497478</td>\n",
       "      <td>-87.880258</td>\n",
       "      <td>NAD83</td>\n",
       "      <td>Ozone</td>\n",
       "      <td>2022-02-28</td>\n",
       "      <td>None</td>\n",
       "      <td>1</td>\n",
       "      <td>6.0</td>\n",
       "      <td>0.038000</td>\n",
       "      <td>0.038</td>\n",
       "      <td>23</td>\n",
       "      <td>35</td>\n",
       "      <td>FAIRHOPE, Alabama</td>\n",
       "      <td>FAIRHOPE HIGH SCHOOL, 1 PIRATE DRIVE, FAIRHOPE...</td>\n",
       "      <td>Alabama</td>\n",
       "      <td>Baldwin</td>\n",
       "      <td>Fairhope</td>\n",
       "      <td>Daphne-Fairhope-Foley, AL</td>\n",
       "      <td>2022-09-08</td>\n",
       "    </tr>\n",
       "    <tr>\n",
       "      <th>1</th>\n",
       "      <td>1</td>\n",
       "      <td>30.497478</td>\n",
       "      <td>-87.880258</td>\n",
       "      <td>NAD83</td>\n",
       "      <td>Ozone</td>\n",
       "      <td>2022-03-01</td>\n",
       "      <td>None</td>\n",
       "      <td>17</td>\n",
       "      <td>100.0</td>\n",
       "      <td>0.037235</td>\n",
       "      <td>0.054</td>\n",
       "      <td>12</td>\n",
       "      <td>50</td>\n",
       "      <td>FAIRHOPE, Alabama</td>\n",
       "      <td>FAIRHOPE HIGH SCHOOL, 1 PIRATE DRIVE, FAIRHOPE...</td>\n",
       "      <td>Alabama</td>\n",
       "      <td>Baldwin</td>\n",
       "      <td>Fairhope</td>\n",
       "      <td>Daphne-Fairhope-Foley, AL</td>\n",
       "      <td>2022-09-08</td>\n",
       "    </tr>\n",
       "    <tr>\n",
       "      <th>2</th>\n",
       "      <td>1</td>\n",
       "      <td>30.497478</td>\n",
       "      <td>-87.880258</td>\n",
       "      <td>NAD83</td>\n",
       "      <td>Ozone</td>\n",
       "      <td>2022-03-02</td>\n",
       "      <td>None</td>\n",
       "      <td>17</td>\n",
       "      <td>100.0</td>\n",
       "      <td>0.038235</td>\n",
       "      <td>0.055</td>\n",
       "      <td>12</td>\n",
       "      <td>51</td>\n",
       "      <td>FAIRHOPE, Alabama</td>\n",
       "      <td>FAIRHOPE HIGH SCHOOL, 1 PIRATE DRIVE, FAIRHOPE...</td>\n",
       "      <td>Alabama</td>\n",
       "      <td>Baldwin</td>\n",
       "      <td>Fairhope</td>\n",
       "      <td>Daphne-Fairhope-Foley, AL</td>\n",
       "      <td>2022-09-08</td>\n",
       "    </tr>\n",
       "    <tr>\n",
       "      <th>3</th>\n",
       "      <td>1</td>\n",
       "      <td>30.497478</td>\n",
       "      <td>-87.880258</td>\n",
       "      <td>NAD83</td>\n",
       "      <td>Ozone</td>\n",
       "      <td>2022-03-03</td>\n",
       "      <td>None</td>\n",
       "      <td>9</td>\n",
       "      <td>53.0</td>\n",
       "      <td>0.024333</td>\n",
       "      <td>0.043</td>\n",
       "      <td>15</td>\n",
       "      <td>40</td>\n",
       "      <td>FAIRHOPE, Alabama</td>\n",
       "      <td>FAIRHOPE HIGH SCHOOL, 1 PIRATE DRIVE, FAIRHOPE...</td>\n",
       "      <td>Alabama</td>\n",
       "      <td>Baldwin</td>\n",
       "      <td>Fairhope</td>\n",
       "      <td>Daphne-Fairhope-Foley, AL</td>\n",
       "      <td>2022-09-08</td>\n",
       "    </tr>\n",
       "    <tr>\n",
       "      <th>4</th>\n",
       "      <td>1</td>\n",
       "      <td>30.497478</td>\n",
       "      <td>-87.880258</td>\n",
       "      <td>NAD83</td>\n",
       "      <td>Ozone</td>\n",
       "      <td>2022-03-04</td>\n",
       "      <td>None</td>\n",
       "      <td>17</td>\n",
       "      <td>100.0</td>\n",
       "      <td>0.049647</td>\n",
       "      <td>0.063</td>\n",
       "      <td>10</td>\n",
       "      <td>77</td>\n",
       "      <td>FAIRHOPE, Alabama</td>\n",
       "      <td>FAIRHOPE HIGH SCHOOL, 1 PIRATE DRIVE, FAIRHOPE...</td>\n",
       "      <td>Alabama</td>\n",
       "      <td>Baldwin</td>\n",
       "      <td>Fairhope</td>\n",
       "      <td>Daphne-Fairhope-Foley, AL</td>\n",
       "      <td>2022-09-08</td>\n",
       "    </tr>\n",
       "    <tr>\n",
       "      <th>...</th>\n",
       "      <td>...</td>\n",
       "      <td>...</td>\n",
       "      <td>...</td>\n",
       "      <td>...</td>\n",
       "      <td>...</td>\n",
       "      <td>...</td>\n",
       "      <td>...</td>\n",
       "      <td>...</td>\n",
       "      <td>...</td>\n",
       "      <td>...</td>\n",
       "      <td>...</td>\n",
       "      <td>...</td>\n",
       "      <td>...</td>\n",
       "      <td>...</td>\n",
       "      <td>...</td>\n",
       "      <td>...</td>\n",
       "      <td>...</td>\n",
       "      <td>...</td>\n",
       "      <td>...</td>\n",
       "      <td>...</td>\n",
       "    </tr>\n",
       "    <tr>\n",
       "      <th>233201</th>\n",
       "      <td>1</td>\n",
       "      <td>18.216038</td>\n",
       "      <td>-67.144107</td>\n",
       "      <td>NAD83</td>\n",
       "      <td>Ozone</td>\n",
       "      <td>2022-06-26</td>\n",
       "      <td>None</td>\n",
       "      <td>17</td>\n",
       "      <td>100.0</td>\n",
       "      <td>0.007000</td>\n",
       "      <td>0.013</td>\n",
       "      <td>9</td>\n",
       "      <td>12</td>\n",
       "      <td>Mayaguez</td>\n",
       "      <td>PR-108</td>\n",
       "      <td>Puerto Rico</td>\n",
       "      <td>Mayagnez</td>\n",
       "      <td>Mayaguez</td>\n",
       "      <td>Mayaguez, PR</td>\n",
       "      <td>2022-08-24</td>\n",
       "    </tr>\n",
       "    <tr>\n",
       "      <th>233202</th>\n",
       "      <td>1</td>\n",
       "      <td>18.216038</td>\n",
       "      <td>-67.144107</td>\n",
       "      <td>NAD83</td>\n",
       "      <td>Ozone</td>\n",
       "      <td>2022-06-27</td>\n",
       "      <td>None</td>\n",
       "      <td>17</td>\n",
       "      <td>100.0</td>\n",
       "      <td>0.011471</td>\n",
       "      <td>0.018</td>\n",
       "      <td>11</td>\n",
       "      <td>17</td>\n",
       "      <td>Mayaguez</td>\n",
       "      <td>PR-108</td>\n",
       "      <td>Puerto Rico</td>\n",
       "      <td>Mayagnez</td>\n",
       "      <td>Mayaguez</td>\n",
       "      <td>Mayaguez, PR</td>\n",
       "      <td>2022-08-24</td>\n",
       "    </tr>\n",
       "    <tr>\n",
       "      <th>233203</th>\n",
       "      <td>1</td>\n",
       "      <td>18.216038</td>\n",
       "      <td>-67.144107</td>\n",
       "      <td>NAD83</td>\n",
       "      <td>Ozone</td>\n",
       "      <td>2022-06-28</td>\n",
       "      <td>None</td>\n",
       "      <td>17</td>\n",
       "      <td>100.0</td>\n",
       "      <td>0.008412</td>\n",
       "      <td>0.016</td>\n",
       "      <td>8</td>\n",
       "      <td>15</td>\n",
       "      <td>Mayaguez</td>\n",
       "      <td>PR-108</td>\n",
       "      <td>Puerto Rico</td>\n",
       "      <td>Mayagnez</td>\n",
       "      <td>Mayaguez</td>\n",
       "      <td>Mayaguez, PR</td>\n",
       "      <td>2022-08-24</td>\n",
       "    </tr>\n",
       "    <tr>\n",
       "      <th>233204</th>\n",
       "      <td>1</td>\n",
       "      <td>18.216038</td>\n",
       "      <td>-67.144107</td>\n",
       "      <td>NAD83</td>\n",
       "      <td>Ozone</td>\n",
       "      <td>2022-06-29</td>\n",
       "      <td>None</td>\n",
       "      <td>17</td>\n",
       "      <td>100.0</td>\n",
       "      <td>0.010412</td>\n",
       "      <td>0.017</td>\n",
       "      <td>10</td>\n",
       "      <td>16</td>\n",
       "      <td>Mayaguez</td>\n",
       "      <td>PR-108</td>\n",
       "      <td>Puerto Rico</td>\n",
       "      <td>Mayagnez</td>\n",
       "      <td>Mayaguez</td>\n",
       "      <td>Mayaguez, PR</td>\n",
       "      <td>2022-08-24</td>\n",
       "    </tr>\n",
       "    <tr>\n",
       "      <th>233205</th>\n",
       "      <td>1</td>\n",
       "      <td>18.216038</td>\n",
       "      <td>-67.144107</td>\n",
       "      <td>NAD83</td>\n",
       "      <td>Ozone</td>\n",
       "      <td>2022-06-30</td>\n",
       "      <td>None</td>\n",
       "      <td>12</td>\n",
       "      <td>71.0</td>\n",
       "      <td>0.009917</td>\n",
       "      <td>0.014</td>\n",
       "      <td>9</td>\n",
       "      <td>13</td>\n",
       "      <td>Mayaguez</td>\n",
       "      <td>PR-108</td>\n",
       "      <td>Puerto Rico</td>\n",
       "      <td>Mayagnez</td>\n",
       "      <td>Mayaguez</td>\n",
       "      <td>Mayaguez, PR</td>\n",
       "      <td>2022-08-24</td>\n",
       "    </tr>\n",
       "  </tbody>\n",
       "</table>\n",
       "<p>201009 rows × 20 columns</p>\n",
       "</div>"
      ],
      "text/plain": [
       "        POC   Latitude  Longitude  Datum Parameter Name  Date Local  \\\n",
       "0         1  30.497478 -87.880258  NAD83          Ozone  2022-02-28   \n",
       "1         1  30.497478 -87.880258  NAD83          Ozone  2022-03-01   \n",
       "2         1  30.497478 -87.880258  NAD83          Ozone  2022-03-02   \n",
       "3         1  30.497478 -87.880258  NAD83          Ozone  2022-03-03   \n",
       "4         1  30.497478 -87.880258  NAD83          Ozone  2022-03-04   \n",
       "...     ...        ...        ...    ...            ...         ...   \n",
       "233201    1  18.216038 -67.144107  NAD83          Ozone  2022-06-26   \n",
       "233202    1  18.216038 -67.144107  NAD83          Ozone  2022-06-27   \n",
       "233203    1  18.216038 -67.144107  NAD83          Ozone  2022-06-28   \n",
       "233204    1  18.216038 -67.144107  NAD83          Ozone  2022-06-29   \n",
       "233205    1  18.216038 -67.144107  NAD83          Ozone  2022-06-30   \n",
       "\n",
       "       Event Type  Observation Count  Observation Percent  \\\n",
       "0            None                  1                  6.0   \n",
       "1            None                 17                100.0   \n",
       "2            None                 17                100.0   \n",
       "3            None                  9                 53.0   \n",
       "4            None                 17                100.0   \n",
       "...           ...                ...                  ...   \n",
       "233201       None                 17                100.0   \n",
       "233202       None                 17                100.0   \n",
       "233203       None                 17                100.0   \n",
       "233204       None                 17                100.0   \n",
       "233205       None                 12                 71.0   \n",
       "\n",
       "        Mean_Ozone_Concentration  Max_Ozone_Value  \\\n",
       "0                       0.038000            0.038   \n",
       "1                       0.037235            0.054   \n",
       "2                       0.038235            0.055   \n",
       "3                       0.024333            0.043   \n",
       "4                       0.049647            0.063   \n",
       "...                          ...              ...   \n",
       "233201                  0.007000            0.013   \n",
       "233202                  0.011471            0.018   \n",
       "233203                  0.008412            0.016   \n",
       "233204                  0.010412            0.017   \n",
       "233205                  0.009917            0.014   \n",
       "\n",
       "        Hour_Max_Ozone_Concentration  Air_Quality_Index    Local Site Name  \\\n",
       "0                                 23                 35  FAIRHOPE, Alabama   \n",
       "1                                 12                 50  FAIRHOPE, Alabama   \n",
       "2                                 12                 51  FAIRHOPE, Alabama   \n",
       "3                                 15                 40  FAIRHOPE, Alabama   \n",
       "4                                 10                 77  FAIRHOPE, Alabama   \n",
       "...                              ...                ...                ...   \n",
       "233201                             9                 12           Mayaguez   \n",
       "233202                            11                 17           Mayaguez   \n",
       "233203                             8                 15           Mayaguez   \n",
       "233204                            10                 16           Mayaguez   \n",
       "233205                             9                 13           Mayaguez   \n",
       "\n",
       "                                                  Address   State Name  \\\n",
       "0       FAIRHOPE HIGH SCHOOL, 1 PIRATE DRIVE, FAIRHOPE...      Alabama   \n",
       "1       FAIRHOPE HIGH SCHOOL, 1 PIRATE DRIVE, FAIRHOPE...      Alabama   \n",
       "2       FAIRHOPE HIGH SCHOOL, 1 PIRATE DRIVE, FAIRHOPE...      Alabama   \n",
       "3       FAIRHOPE HIGH SCHOOL, 1 PIRATE DRIVE, FAIRHOPE...      Alabama   \n",
       "4       FAIRHOPE HIGH SCHOOL, 1 PIRATE DRIVE, FAIRHOPE...      Alabama   \n",
       "...                                                   ...          ...   \n",
       "233201                                             PR-108  Puerto Rico   \n",
       "233202                                             PR-108  Puerto Rico   \n",
       "233203                                             PR-108  Puerto Rico   \n",
       "233204                                             PR-108  Puerto Rico   \n",
       "233205                                             PR-108  Puerto Rico   \n",
       "\n",
       "       County Name City Name                  CBSA Name Date of Last Change  \n",
       "0          Baldwin  Fairhope  Daphne-Fairhope-Foley, AL          2022-09-08  \n",
       "1          Baldwin  Fairhope  Daphne-Fairhope-Foley, AL          2022-09-08  \n",
       "2          Baldwin  Fairhope  Daphne-Fairhope-Foley, AL          2022-09-08  \n",
       "3          Baldwin  Fairhope  Daphne-Fairhope-Foley, AL          2022-09-08  \n",
       "4          Baldwin  Fairhope  Daphne-Fairhope-Foley, AL          2022-09-08  \n",
       "...            ...       ...                        ...                 ...  \n",
       "233201    Mayagnez  Mayaguez               Mayaguez, PR          2022-08-24  \n",
       "233202    Mayagnez  Mayaguez               Mayaguez, PR          2022-08-24  \n",
       "233203    Mayagnez  Mayaguez               Mayaguez, PR          2022-08-24  \n",
       "233204    Mayagnez  Mayaguez               Mayaguez, PR          2022-08-24  \n",
       "233205    Mayagnez  Mayaguez               Mayaguez, PR          2022-08-24  \n",
       "\n",
       "[201009 rows x 20 columns]"
      ]
     },
     "execution_count": 14,
     "metadata": {},
     "output_type": "execute_result"
    }
   ],
   "source": [
    "#Rename some columns which are not clear enough\n",
    "\n",
    "df3 = df2.rename(columns={\n",
    "    'Arithmetic Mean': 'Mean_Ozone_Concentration',\n",
    "    '1st Max Value': 'Max_Ozone_Value',\n",
    "    '1st Max Hour': 'Hour_Max_Ozone_Concentration',\n",
    "    'AQI': 'Air_Quality_Index'\n",
    "})\n",
    "df3"
   ]
  },
  {
   "cell_type": "markdown",
   "id": "aae25da3",
   "metadata": {},
   "source": [
    "##  Identifying the Outliers and removing them"
   ]
  },
  {
   "cell_type": "code",
   "execution_count": 16,
   "id": "5add2216",
   "metadata": {},
   "outputs": [
    {
     "name": "stdout",
     "output_type": "stream",
     "text": [
      "skewness value of MaxOzone: 0.21429366653255022\n",
      "skewness value of Hour:  2.2034422851161417\n",
      "skewness value of Conc:  0.04521208756109756\n",
      "skewness value of AQI:  2.394641667707431\n"
     ]
    }
   ],
   "source": [
    "#Identifying the outliers using Skewness\n",
    "\n",
    "print('skewness value of MaxOzone:',df3['Max_Ozone_Value'].skew())\n",
    "print('skewness value of Hour: ',df3['Hour_Max_Ozone_Concentration'].skew())\n",
    "print('skewness value of Conc: ',df3['Mean_Ozone_Concentration'].skew())\n",
    "print('skewness value of AQI: ',df3['Air_Quality_Index'].skew())"
   ]
  },
  {
   "cell_type": "markdown",
   "id": "8fc49bd4",
   "metadata": {},
   "source": [
    "The skewness value should be within the range of -1 to 1 for a normal distribution, any major changes from this value may indicate the presence of outliers. The ‘Hour_Max_Ozone_Concentration’ skewness value of 2.20 shows the variable has been rightly skewed, indicating the presence of outliers."
   ]
  },
  {
   "cell_type": "code",
   "execution_count": 17,
   "id": "6e5a675c",
   "metadata": {},
   "outputs": [
    {
     "data": {
      "text/plain": [
       "<AxesSubplot:>"
      ]
     },
     "execution_count": 17,
     "metadata": {},
     "output_type": "execute_result"
    },
    {
     "data": {
      "image/png": "[encoded data removed]",
      "text/plain": [
       "<Figure size 1440x720 with 1 Axes>"
      ]
     },
     "metadata": {
      "needs_background": "light"
     },
     "output_type": "display_data"
    }
   ],
   "source": [
    "# Visualizing the distribution of a numerical variable using histogram to identify the outlier\n",
    "df3.Air_Quality_Index.hist()"
   ]
  },
  {
   "cell_type": "markdown",
   "id": "49c14fe4",
   "metadata": {},
   "source": [
    "If the histogram is right-skewed or left-skewed, it indicates the presence of extreme values or outliers. Since this histogram distribution of Air Quality Index is right skewed it represent the presence of outliers"
   ]
  },
  {
   "cell_type": "code",
   "execution_count": 18,
   "id": "45dff177",
   "metadata": {},
   "outputs": [
    {
     "name": "stderr",
     "output_type": "stream",
     "text": [
      "C:\\Users\\adhir\\anaconda3\\lib\\site-packages\\seaborn\\_decorators.py:36: FutureWarning: Pass the following variable as a keyword arg: x. From version 0.12, the only valid positional argument will be `data`, and passing other arguments without an explicit keyword will result in an error or misinterpretation.\n",
      "  warnings.warn(\n"
     ]
    },
    {
     "data": {
      "text/plain": [
       "<AxesSubplot:xlabel='Mean_Ozone_Concentration'>"
      ]
     },
     "execution_count": 18,
     "metadata": {},
     "output_type": "execute_result"
    },
    {
     "data": {
      "image/png": "[encoded data removed]",
      "text/plain": [
       "<Figure size 1440x720 with 1 Axes>"
      ]
     },
     "metadata": {
      "needs_background": "light"
     },
     "output_type": "display_data"
    }
   ],
   "source": [
    "# Visualizing the distribution of Mean Ozone concentration using boxplot to identify the outlier\n",
    "\n",
    "import seaborn as sns\n",
    "sns.boxplot(df3['Mean_Ozone_Concentration'],data=df3)"
   ]
  },
  {
   "cell_type": "markdown",
   "id": "9d87261d",
   "metadata": {},
   "source": [
    "There are data points which fall outside the value range for the Mean ozone concentration. Values above 0.08 are mostly outliers. "
   ]
  },
  {
   "cell_type": "markdown",
   "id": "52fd88f4",
   "metadata": {},
   "source": [
    "## Removing the outliers"
   ]
  },
  {
   "cell_type": "code",
   "execution_count": 19,
   "id": "709712a2",
   "metadata": {},
   "outputs": [],
   "source": [
    "# Removing the outliers by flooring and Capping\n",
    "Q1 = df3['Mean_Ozone_Concentration'].quantile(0.25)\n",
    "Q3 = df3['Mean_Ozone_Concentration'].quantile(0.75)\n",
    "IQR = Q3 - Q1\n",
    "whisker_width = 1.5\n",
    "lower_whisker = Q1 -(whisker_width*IQR)\n",
    "upper_whisker = Q3 + (whisker_width*IQR)\n",
    "df4 = df3\n",
    "df4['Mean_Ozone_Concentration']=np.where(df3['Mean_Ozone_Concentration']>upper_whisker,upper_whisker,np.where(df3['Mean_Ozone_Concentration']<lower_whisker,lower_whisker,df3['Mean_Ozone_Concentration']))"
   ]
  },
  {
   "cell_type": "markdown",
   "id": "4d313f51",
   "metadata": {},
   "source": [
    "We're going to set a minimum value for data points that are too low(flooring), like the bottom 25% of values, and we'll set a maximum value(capping) for data points that are too high, like the top 25% of values. We'll use these percentile values to decide what the minimum and maximum values should be."
   ]
  },
  {
   "cell_type": "code",
   "execution_count": 20,
   "id": "154a6795",
   "metadata": {},
   "outputs": [
    {
     "name": "stderr",
     "output_type": "stream",
     "text": [
      "C:\\Users\\adhir\\anaconda3\\lib\\site-packages\\seaborn\\_decorators.py:36: FutureWarning: Pass the following variable as a keyword arg: x. From version 0.12, the only valid positional argument will be `data`, and passing other arguments without an explicit keyword will result in an error or misinterpretation.\n",
      "  warnings.warn(\n"
     ]
    },
    {
     "data": {
      "text/plain": [
       "<AxesSubplot:xlabel='Mean_Ozone_Concentration'>"
      ]
     },
     "execution_count": 20,
     "metadata": {},
     "output_type": "execute_result"
    },
    {
     "data": {
      "image/png": "[encoded data removed]",
      "text/plain": [
       "<Figure size 1440x720 with 1 Axes>"
      ]
     },
     "metadata": {
      "needs_background": "light"
     },
     "output_type": "display_data"
    }
   ],
   "source": [
    "sns.boxplot(df4['Mean_Ozone_Concentration'],data=df4)"
   ]
  },
  {
   "cell_type": "markdown",
   "id": "7b1559e2",
   "metadata": {},
   "source": [
    "We can visualize if the Outliers are removed by the boxplot. Here, the outliers are removed for the Mean Ozone Concentration after applying the flooring and capping technique. "
   ]
  },
  {
   "cell_type": "code",
   "execution_count": 22,
   "id": "d47fbe1c",
   "metadata": {},
   "outputs": [],
   "source": [
    "#Removing the outliers of Hour with Max Ozone Concentration by Flotting and Capping technique\n",
    "\n",
    "Q1 = df4['Hour_Max_Ozone_Concentration'].quantile(0.25)\n",
    "Q3 = df4['Hour_Max_Ozone_Concentration'].quantile(0.75)\n",
    "IQR = Q3 - Q1\n",
    "whisker_width = 1.5\n",
    "lower_whisker = Q1 -(whisker_width*IQR)\n",
    "upper_whisker = Q3 + (whisker_width*IQR)\n",
    "df4['Hour_Max_Ozone_Concentration']=np.where(df3['Hour_Max_Ozone_Concentration']>upper_whisker,upper_whisker,np.where(df3['Hour_Max_Ozone_Concentration']<lower_whisker,lower_whisker,df3['Hour_Max_Ozone_Concentration']))"
   ]
  },
  {
   "cell_type": "code",
   "execution_count": 23,
   "id": "89f886c6",
   "metadata": {},
   "outputs": [],
   "source": [
    "# Removing the Outliers of Air Quality Index by Trimming method\n",
    "\n",
    "Q1 = df4['Air_Quality_Index'].quantile(0.10)\n",
    "Q3 = df4['Air_Quality_Index'].quantile(0.90)\n",
    "IQR = Q3 - Q1\n",
    "whisker_width = 1.5\n",
    "lower_whisker = Q1 - (whisker_width*IQR)\n",
    "upper_whisker = Q3 + (whisker_width*IQR)\n",
    "index=df4['Air_Quality_Index'][(df4['Air_Quality_Index']>upper_whisker)|(df4['Air_Quality_Index']<lower_whisker)].index\n",
    "df4.drop(index,inplace=True)"
   ]
  },
  {
   "cell_type": "markdown",
   "id": "58612a27",
   "metadata": {},
   "source": [
    "In trimming method we are createing an index for all the outliers  of Air Quality Index and dropping the index values to remove the outliers"
   ]
  },
  {
   "cell_type": "code",
   "execution_count": 24,
   "id": "7794f2ef",
   "metadata": {},
   "outputs": [
    {
     "data": {
      "text/plain": [
       "<AxesSubplot:>"
      ]
     },
     "execution_count": 24,
     "metadata": {},
     "output_type": "execute_result"
    },
    {
     "data": {
      "image/png": "[encoded data removed]",
      "text/plain": [
       "<Figure size 1440x720 with 1 Axes>"
      ]
     },
     "metadata": {
      "needs_background": "light"
     },
     "output_type": "display_data"
    }
   ],
   "source": [
    "# Visualizing the outliers\n",
    "df4.Air_Quality_Index.hist()"
   ]
  },
  {
   "cell_type": "code",
   "execution_count": 27,
   "id": "810cfb9d",
   "metadata": {},
   "outputs": [
    {
     "name": "stdout",
     "output_type": "stream",
     "text": [
      "skewness value of MaxOzoneValue:  -0.10015791399419781\n",
      "skewness value of Max Hour Ozone conc:  0.32151852896487493\n",
      "skewness value of Mean Ozone Conc:  -0.0926007291492704\n",
      "skewness value of AQI:  1.2116858868554299\n"
     ]
    }
   ],
   "source": [
    "print('skewness value of MaxOzoneValue: ',df4['Max_Ozone_Value'].skew())\n",
    "print('skewness value of Max Hour Ozone conc: ',df4['Hour_Max_Ozone_Concentration'].skew())\n",
    "print('skewness value of Mean Ozone Conc: ',df4['Mean_Ozone_Concentration'].skew())\n",
    "print('skewness value of AQI: ',df4['Air_Quality_Index'].skew())"
   ]
  },
  {
   "cell_type": "markdown",
   "id": "b898a043",
   "metadata": {},
   "source": [
    "The skewness value of the AQI (Air Quality Index) has decreased from a high value of 2.39 to a lower value of 1.21, which is closer to 1. This reduction in skewness suggests that the data distribution is becoming less skewed or more symmetrical.\n",
    "\n",
    "Similarly, when we removed outliers from the data, the skewness also decreased significantly from 2.20 to a much smaller value of 0.32. This reduction indicates that the data distribution has become more centered between -1 and 1, which is a characteristic of more balanced distribution"
   ]
  },
  {
   "cell_type": "code",
   "execution_count": null,
   "id": "8d47e66c",
   "metadata": {},
   "outputs": [],
   "source": []
  }
 ],
 "metadata": {
  "kernelspec": {
   "display_name": "Python 3 (ipykernel)",
   "language": "python",
   "name": "python3"
  },
  "language_info": {
   "codemirror_mode": {
    "name": "ipython",
    "version": 3
   },
   "file_extension": ".py",
   "mimetype": "text/x-python",
   "name": "python",
   "nbconvert_exporter": "python",
   "pygments_lexer": "ipython3",
   "version": "3.9.12"
  }
 },
 "nbformat": 4,
 "nbformat_minor": 5
}
