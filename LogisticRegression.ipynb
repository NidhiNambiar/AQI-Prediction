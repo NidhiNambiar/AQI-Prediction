{
 "cells": [
  {
   "cell_type": "code",
   "execution_count": 1,
   "metadata": {},
   "outputs": [],
   "source": [
    "# Import necessary libraries\n",
    "import pandas as pd\n",
    "import numpy as np\n",
    "from matplotlib import pyplot as plt\n",
    "import matplotlib\n",
    "import seaborn as sns\n",
    "import plotly.express as px\n",
    "import plotly.figure_factory as ff\n",
    "from sklearn.model_selection import train_test_split\n",
    "from sklearn.pipeline import make_pipeline\n",
    "from sklearn.preprocessing import OneHotEncoder\n",
    "from sklearn.linear_model import LogisticRegression\n",
    "from sklearn.metrics import classification_report, accuracy_score\n",
    "import matplotlib.pyplot as plt\n",
    "import statsmodels.api as sm\n",
    "import scipy.stats as stats\n",
    "\n",
    "# Set up the plotting parameters\n",
    "%matplotlib inline\n",
    "matplotlib.rcParams[\"figure.figsize\"] = (20, 10)"
   ]
  },
  {
   "cell_type": "code",
   "execution_count": 2,
   "metadata": {},
   "outputs": [
    {
     "data": {
      "text/html": [
       "<div>\n",
       "<style scoped>\n",
       "    .dataframe tbody tr th:only-of-type {\n",
       "        vertical-align: middle;\n",
       "    }\n",
       "\n",
       "    .dataframe tbody tr th {\n",
       "        vertical-align: top;\n",
       "    }\n",
       "\n",
       "    .dataframe thead th {\n",
       "        text-align: right;\n",
       "    }\n",
       "</style>\n",
       "<table border=\"1\" class=\"dataframe\">\n",
       "  <thead>\n",
       "    <tr style=\"text-align: right;\">\n",
       "      <th></th>\n",
       "      <th>Latitude</th>\n",
       "      <th>Longitude</th>\n",
       "      <th>POC</th>\n",
       "      <th>State Name</th>\n",
       "      <th>County Name</th>\n",
       "      <th>City Name</th>\n",
       "      <th>Date Local</th>\n",
       "      <th>Month</th>\n",
       "      <th>Day</th>\n",
       "      <th>Event Type</th>\n",
       "      <th>Observation Count</th>\n",
       "      <th>Mean_Ozone_Concentration</th>\n",
       "      <th>Max_Ozone_Value</th>\n",
       "      <th>Hour_Max_Ozone_Concentration</th>\n",
       "      <th>Air_Quality_Index</th>\n",
       "      <th>AQI_Range</th>\n",
       "    </tr>\n",
       "  </thead>\n",
       "  <tbody>\n",
       "    <tr>\n",
       "      <th>0</th>\n",
       "      <td>30.497478</td>\n",
       "      <td>-87.880258</td>\n",
       "      <td>1</td>\n",
       "      <td>Alabama</td>\n",
       "      <td>Baldwin</td>\n",
       "      <td>Fairhope</td>\n",
       "      <td>2022-02-28</td>\n",
       "      <td>2</td>\n",
       "      <td>28</td>\n",
       "      <td>None</td>\n",
       "      <td>1</td>\n",
       "      <td>0.038000</td>\n",
       "      <td>0.038</td>\n",
       "      <td>14.0</td>\n",
       "      <td>35</td>\n",
       "      <td>Low</td>\n",
       "    </tr>\n",
       "    <tr>\n",
       "      <th>1</th>\n",
       "      <td>30.497478</td>\n",
       "      <td>-87.880258</td>\n",
       "      <td>1</td>\n",
       "      <td>Alabama</td>\n",
       "      <td>Baldwin</td>\n",
       "      <td>Fairhope</td>\n",
       "      <td>2022-03-01</td>\n",
       "      <td>3</td>\n",
       "      <td>1</td>\n",
       "      <td>None</td>\n",
       "      <td>17</td>\n",
       "      <td>0.037235</td>\n",
       "      <td>0.054</td>\n",
       "      <td>12.0</td>\n",
       "      <td>50</td>\n",
       "      <td>Low</td>\n",
       "    </tr>\n",
       "    <tr>\n",
       "      <th>2</th>\n",
       "      <td>30.497478</td>\n",
       "      <td>-87.880258</td>\n",
       "      <td>1</td>\n",
       "      <td>Alabama</td>\n",
       "      <td>Baldwin</td>\n",
       "      <td>Fairhope</td>\n",
       "      <td>2022-03-02</td>\n",
       "      <td>3</td>\n",
       "      <td>2</td>\n",
       "      <td>None</td>\n",
       "      <td>17</td>\n",
       "      <td>0.038235</td>\n",
       "      <td>0.055</td>\n",
       "      <td>12.0</td>\n",
       "      <td>51</td>\n",
       "      <td>Low</td>\n",
       "    </tr>\n",
       "    <tr>\n",
       "      <th>3</th>\n",
       "      <td>30.497478</td>\n",
       "      <td>-87.880258</td>\n",
       "      <td>1</td>\n",
       "      <td>Alabama</td>\n",
       "      <td>Baldwin</td>\n",
       "      <td>Fairhope</td>\n",
       "      <td>2022-03-03</td>\n",
       "      <td>3</td>\n",
       "      <td>3</td>\n",
       "      <td>None</td>\n",
       "      <td>9</td>\n",
       "      <td>0.024333</td>\n",
       "      <td>0.043</td>\n",
       "      <td>14.0</td>\n",
       "      <td>40</td>\n",
       "      <td>Low</td>\n",
       "    </tr>\n",
       "    <tr>\n",
       "      <th>4</th>\n",
       "      <td>30.497478</td>\n",
       "      <td>-87.880258</td>\n",
       "      <td>1</td>\n",
       "      <td>Alabama</td>\n",
       "      <td>Baldwin</td>\n",
       "      <td>Fairhope</td>\n",
       "      <td>2022-03-04</td>\n",
       "      <td>3</td>\n",
       "      <td>4</td>\n",
       "      <td>None</td>\n",
       "      <td>17</td>\n",
       "      <td>0.049647</td>\n",
       "      <td>0.063</td>\n",
       "      <td>10.0</td>\n",
       "      <td>77</td>\n",
       "      <td>Low</td>\n",
       "    </tr>\n",
       "  </tbody>\n",
       "</table>\n",
       "</div>"
      ],
      "text/plain": [
       "    Latitude  Longitude  POC State Name County Name City Name  Date Local  \\\n",
       "0  30.497478 -87.880258    1    Alabama     Baldwin  Fairhope  2022-02-28   \n",
       "1  30.497478 -87.880258    1    Alabama     Baldwin  Fairhope  2022-03-01   \n",
       "2  30.497478 -87.880258    1    Alabama     Baldwin  Fairhope  2022-03-02   \n",
       "3  30.497478 -87.880258    1    Alabama     Baldwin  Fairhope  2022-03-03   \n",
       "4  30.497478 -87.880258    1    Alabama     Baldwin  Fairhope  2022-03-04   \n",
       "\n",
       "   Month  Day Event Type  Observation Count  Mean_Ozone_Concentration  \\\n",
       "0      2   28       None                  1                  0.038000   \n",
       "1      3    1       None                 17                  0.037235   \n",
       "2      3    2       None                 17                  0.038235   \n",
       "3      3    3       None                  9                  0.024333   \n",
       "4      3    4       None                 17                  0.049647   \n",
       "\n",
       "   Max_Ozone_Value  Hour_Max_Ozone_Concentration  Air_Quality_Index AQI_Range  \n",
       "0            0.038                          14.0                 35       Low  \n",
       "1            0.054                          12.0                 50       Low  \n",
       "2            0.055                          12.0                 51       Low  \n",
       "3            0.043                          14.0                 40       Low  \n",
       "4            0.063                          10.0                 77       Low  "
      ]
     },
     "execution_count": 2,
     "metadata": {},
     "output_type": "execute_result"
    }
   ],
   "source": [
    "# Load the dataset from a CSV file\n",
    "data1 = pd.read_csv('Air_quality_index.csv')\n",
    "data = data1.copy()\n",
    "data['AQI_Range'] = data.apply(lambda row: \"High\" if row['Air_Quality_Index'] > 100 else \"Low\", axis=1)\n",
    "data.head(5)"
   ]
  },
  {
   "cell_type": "code",
   "execution_count": 3,
   "metadata": {},
   "outputs": [
    {
     "data": {
      "text/plain": [
       "39.0"
      ]
     },
     "execution_count": 3,
     "metadata": {},
     "output_type": "execute_result"
    }
   ],
   "source": [
    "#Performed the following changes for logistic regression in the above dataset.\n",
    "#If the Air_Quality_Index lies between 0 to 50 the AQI_Range is good, and anything above 50 is bad\n",
    "df=data\n",
    "df4=df\n",
    "median_value = np.median(df['Air_Quality_Index'])\n",
    "median_value"
   ]
  },
  {
   "cell_type": "code",
   "execution_count": 4,
   "metadata": {},
   "outputs": [],
   "source": [
    "def AQI_Range(x):\n",
    "    if x<=50.0:\n",
    "        return \"Good\"\n",
    "    elif x>50:\n",
    "        return \"Bad\"\n",
    "df4['AQI_Range'] = df4['Air_Quality_Index'] .apply(AQI_Range)\n",
    "\n",
    "df4.head(5)\n",
    "df.to_csv('newdataset1.csv', index=False)"
   ]
  },
  {
   "cell_type": "code",
   "execution_count": 5,
   "metadata": {},
   "outputs": [
    {
     "data": {
      "text/html": [
       "<div>\n",
       "<style scoped>\n",
       "    .dataframe tbody tr th:only-of-type {\n",
       "        vertical-align: middle;\n",
       "    }\n",
       "\n",
       "    .dataframe tbody tr th {\n",
       "        vertical-align: top;\n",
       "    }\n",
       "\n",
       "    .dataframe thead th {\n",
       "        text-align: right;\n",
       "    }\n",
       "</style>\n",
       "<table border=\"1\" class=\"dataframe\">\n",
       "  <thead>\n",
       "    <tr style=\"text-align: right;\">\n",
       "      <th></th>\n",
       "      <th>Latitude</th>\n",
       "      <th>Longitude</th>\n",
       "      <th>POC</th>\n",
       "      <th>State Name</th>\n",
       "      <th>County Name</th>\n",
       "      <th>City Name</th>\n",
       "      <th>Date Local</th>\n",
       "      <th>Month</th>\n",
       "      <th>Day</th>\n",
       "      <th>Event Type</th>\n",
       "      <th>Observation Count</th>\n",
       "      <th>Mean_Ozone_Concentration</th>\n",
       "      <th>Max_Ozone_Value</th>\n",
       "      <th>Hour_Max_Ozone_Concentration</th>\n",
       "      <th>Air_Quality_Index</th>\n",
       "      <th>AQI_Range</th>\n",
       "    </tr>\n",
       "  </thead>\n",
       "  <tbody>\n",
       "    <tr>\n",
       "      <th>0</th>\n",
       "      <td>30.497478</td>\n",
       "      <td>-87.880258</td>\n",
       "      <td>1</td>\n",
       "      <td>Alabama</td>\n",
       "      <td>Baldwin</td>\n",
       "      <td>Fairhope</td>\n",
       "      <td>2022-02-28</td>\n",
       "      <td>2</td>\n",
       "      <td>28</td>\n",
       "      <td>None</td>\n",
       "      <td>1</td>\n",
       "      <td>0.038000</td>\n",
       "      <td>0.038</td>\n",
       "      <td>14.0</td>\n",
       "      <td>35</td>\n",
       "      <td>Good</td>\n",
       "    </tr>\n",
       "    <tr>\n",
       "      <th>1</th>\n",
       "      <td>30.497478</td>\n",
       "      <td>-87.880258</td>\n",
       "      <td>1</td>\n",
       "      <td>Alabama</td>\n",
       "      <td>Baldwin</td>\n",
       "      <td>Fairhope</td>\n",
       "      <td>2022-03-01</td>\n",
       "      <td>3</td>\n",
       "      <td>1</td>\n",
       "      <td>None</td>\n",
       "      <td>17</td>\n",
       "      <td>0.037235</td>\n",
       "      <td>0.054</td>\n",
       "      <td>12.0</td>\n",
       "      <td>50</td>\n",
       "      <td>Good</td>\n",
       "    </tr>\n",
       "    <tr>\n",
       "      <th>2</th>\n",
       "      <td>30.497478</td>\n",
       "      <td>-87.880258</td>\n",
       "      <td>1</td>\n",
       "      <td>Alabama</td>\n",
       "      <td>Baldwin</td>\n",
       "      <td>Fairhope</td>\n",
       "      <td>2022-03-02</td>\n",
       "      <td>3</td>\n",
       "      <td>2</td>\n",
       "      <td>None</td>\n",
       "      <td>17</td>\n",
       "      <td>0.038235</td>\n",
       "      <td>0.055</td>\n",
       "      <td>12.0</td>\n",
       "      <td>51</td>\n",
       "      <td>Bad</td>\n",
       "    </tr>\n",
       "    <tr>\n",
       "      <th>3</th>\n",
       "      <td>30.497478</td>\n",
       "      <td>-87.880258</td>\n",
       "      <td>1</td>\n",
       "      <td>Alabama</td>\n",
       "      <td>Baldwin</td>\n",
       "      <td>Fairhope</td>\n",
       "      <td>2022-03-03</td>\n",
       "      <td>3</td>\n",
       "      <td>3</td>\n",
       "      <td>None</td>\n",
       "      <td>9</td>\n",
       "      <td>0.024333</td>\n",
       "      <td>0.043</td>\n",
       "      <td>14.0</td>\n",
       "      <td>40</td>\n",
       "      <td>Good</td>\n",
       "    </tr>\n",
       "    <tr>\n",
       "      <th>4</th>\n",
       "      <td>30.497478</td>\n",
       "      <td>-87.880258</td>\n",
       "      <td>1</td>\n",
       "      <td>Alabama</td>\n",
       "      <td>Baldwin</td>\n",
       "      <td>Fairhope</td>\n",
       "      <td>2022-03-04</td>\n",
       "      <td>3</td>\n",
       "      <td>4</td>\n",
       "      <td>None</td>\n",
       "      <td>17</td>\n",
       "      <td>0.049647</td>\n",
       "      <td>0.063</td>\n",
       "      <td>10.0</td>\n",
       "      <td>77</td>\n",
       "      <td>Bad</td>\n",
       "    </tr>\n",
       "  </tbody>\n",
       "</table>\n",
       "</div>"
      ],
      "text/plain": [
       "    Latitude  Longitude  POC State Name County Name City Name  Date Local  \\\n",
       "0  30.497478 -87.880258    1    Alabama     Baldwin  Fairhope  2022-02-28   \n",
       "1  30.497478 -87.880258    1    Alabama     Baldwin  Fairhope  2022-03-01   \n",
       "2  30.497478 -87.880258    1    Alabama     Baldwin  Fairhope  2022-03-02   \n",
       "3  30.497478 -87.880258    1    Alabama     Baldwin  Fairhope  2022-03-03   \n",
       "4  30.497478 -87.880258    1    Alabama     Baldwin  Fairhope  2022-03-04   \n",
       "\n",
       "   Month  Day Event Type  Observation Count  Mean_Ozone_Concentration  \\\n",
       "0      2   28       None                  1                  0.038000   \n",
       "1      3    1       None                 17                  0.037235   \n",
       "2      3    2       None                 17                  0.038235   \n",
       "3      3    3       None                  9                  0.024333   \n",
       "4      3    4       None                 17                  0.049647   \n",
       "\n",
       "   Max_Ozone_Value  Hour_Max_Ozone_Concentration  Air_Quality_Index AQI_Range  \n",
       "0            0.038                          14.0                 35      Good  \n",
       "1            0.054                          12.0                 50      Good  \n",
       "2            0.055                          12.0                 51       Bad  \n",
       "3            0.043                          14.0                 40      Good  \n",
       "4            0.063                          10.0                 77       Bad  "
      ]
     },
     "execution_count": 5,
     "metadata": {},
     "output_type": "execute_result"
    }
   ],
   "source": [
    "df = pd.read_csv('newdataset1.csv')\n",
    "df1 = df.copy()\n",
    "df1.head(5)"
   ]
  },
  {
   "cell_type": "code",
   "execution_count": 6,
   "metadata": {},
   "outputs": [],
   "source": [
    "# Load the dataset from 'newdataset1.csv' and split it into train and test sets and \n",
    "data= pd.read_csv('newdataset1.csv')\n",
    "x = data.drop(columns=['AQI_Range'])\n",
    "y = data['AQI_Range']\n",
    "x_train, x_test, y_train, y_test = train_test_split(x, y, test_size=0.2, random_state=42)\n",
    "train_data = x_train.copy()\n",
    "train_data['AQI_Range'] = y_train\n",
    "train_data.to_csv('train_data.csv', index=False)\n",
    "test_data = x_test.copy()  # Make a copy of the features for testing data\n",
    "test_data['AQI_Range'] = y_test\n",
    "test_data.to_csv('test_data.csv', index=False) \n",
    "#Load the train and test datasets\n",
    "train_data = pd.read_csv('train_data.csv')\n",
    "test_data = pd.read_csv('test_data.csv')\n",
    "x = data.drop(columns=['AQI_Range'])\n",
    "y = data['AQI_Range']"
   ]
  },
  {
   "cell_type": "code",
   "execution_count": 7,
   "metadata": {},
   "outputs": [],
   "source": [
    "# Define the features and target variable\n",
    "features = ['Mean_Ozone_Concentration', 'Max_Ozone_Value', 'Hour_Max_Ozone_Concentration']\n",
    "target = 'AQI_Range'\n",
    "# Map the target variable 'AQI_Range' to binary values (Good: 0, Bad: 1) for both train and test datasets\n",
    "train_data['AQI_Range'] = train_data['AQI_Range'].map({'Good': 0, 'Bad': 1})\n",
    "test_data['AQI_Range'] = test_data['AQI_Range'].map({'Good': 0, 'Bad': 1})"
   ]
  },
  {
   "cell_type": "code",
   "execution_count": 8,
   "metadata": {},
   "outputs": [],
   "source": [
    "# Define the training and testing data\n",
    "X_train = train_data[features]\n",
    "y_train = train_data[target]\n",
    "X_test = test_data[features]\n",
    "y_test = test_data[target]"
   ]
  },
  {
   "cell_type": "code",
   "execution_count": 9,
   "metadata": {},
   "outputs": [
    {
     "data": {
      "text/plain": [
       "LogisticRegression()"
      ]
     },
     "execution_count": 9,
     "metadata": {},
     "output_type": "execute_result"
    }
   ],
   "source": [
    "# Create a Logistic Regression model and fit it with the training data ans display it\n",
    "model = LogisticRegression()\n",
    "model.fit(X_train, y_train)\n",
    "model"
   ]
  },
  {
   "cell_type": "code",
   "execution_count": 10,
   "metadata": {},
   "outputs": [
    {
     "name": "stdout",
     "output_type": "stream",
     "text": [
      "Intercept: -9.846869543941143\n",
      "Coefficients: [ 6.39173753e+01  1.13976352e+02 -2.35567547e-03]\n"
     ]
    }
   ],
   "source": [
    "# Get the intercept and coefficients of the logistic regression model\n",
    "intercept = model.intercept_[0]\n",
    "print(\"Intercept:\", intercept)\n",
    "coefficients = model.coef_[0]\n",
    "print(\"Coefficients:\", coefficients)"
   ]
  },
  {
   "cell_type": "code",
   "execution_count": 11,
   "metadata": {},
   "outputs": [
    {
     "name": "stdout",
     "output_type": "stream",
     "text": [
      "Log-Odds: [-3.22629778 -8.11188553 -4.06171566 ... -2.7929789  -4.02645531\n",
      " -1.96573654]\n"
     ]
    }
   ],
   "source": [
    "# Calculate log-odds for the training data\n",
    "log_odds = intercept + np.dot(X_train, coefficients)\n",
    "print(\"Log-Odds:\", log_odds)\n"
   ]
  },
  {
   "cell_type": "code",
   "execution_count": 12,
   "metadata": {},
   "outputs": [
    {
     "name": "stdout",
     "output_type": "stream",
     "text": [
      "Odds Ratios: [5.74068046e+27 3.15718933e+49 9.97647097e-01]\n"
     ]
    }
   ],
   "source": [
    "# Calculate odds ratios for the features\n",
    "odds_ratios = np.exp(coefficients)\n",
    "print(\"Odds Ratios:\", odds_ratios)"
   ]
  },
  {
   "cell_type": "code",
   "execution_count": 13,
   "metadata": {},
   "outputs": [
    {
     "name": "stdout",
     "output_type": "stream",
     "text": [
      "Most Predictive Features: ['Max_Ozone_Value', 'Mean_Ozone_Concentration', 'Hour_Max_Ozone_Concentration']\n"
     ]
    }
   ],
   "source": [
    "# Calculate the absolute values of coefficients and identify the most predictive features\n",
    "abs_coefficients = np.abs(coefficients)\n",
    "most_predictive_features = [features[i] for i in np.argsort(abs_coefficients)[::-1]]\n",
    "print(\"Most Predictive Features:\", most_predictive_features)"
   ]
  },
  {
   "cell_type": "code",
   "execution_count": 14,
   "metadata": {},
   "outputs": [
    {
     "name": "stdout",
     "output_type": "stream",
     "text": [
      "Testing Accuracy: 0.93\n",
      "              precision    recall  f1-score   support\n",
      "\n",
      "           0       0.93      1.00      0.96     34993\n",
      "           1       1.00      0.47      0.64      5209\n",
      "\n",
      "    accuracy                           0.93     40202\n",
      "   macro avg       0.96      0.74      0.80     40202\n",
      "weighted avg       0.94      0.93      0.92     40202\n",
      "\n"
     ]
    }
   ],
   "source": [
    "# Make predictions on the test data and calculate accuracy and Generate a classification report to evaluate the model's performance\n",
    "y_pred = model.predict(X_test)\n",
    "acc_test = accuracy_score(y_test, y_pred)\n",
    "print(\"Testing Accuracy:\", round(acc_test, 2))\n",
    "print(classification_report(y_test, y_pred))"
   ]
  },
  {
   "cell_type": "code",
   "execution_count": 15,
   "metadata": {},
   "outputs": [
    {
     "data": {
      "text/html": [
       "<table class=\"simpletable\">\n",
       "<caption>OLS Regression Results</caption>\n",
       "<tr>\n",
       "  <th>Dep. Variable:</th>        <td>AQI_Range</td>    <th>  R-squared:         </th> <td>   0.422</td> \n",
       "</tr>\n",
       "<tr>\n",
       "  <th>Model:</th>                   <td>OLS</td>       <th>  Adj. R-squared:    </th> <td>   0.422</td> \n",
       "</tr>\n",
       "<tr>\n",
       "  <th>Method:</th>             <td>Least Squares</td>  <th>  F-statistic:       </th> <td>3.906e+04</td>\n",
       "</tr>\n",
       "<tr>\n",
       "  <th>Date:</th>             <td>Mon, 23 Oct 2023</td> <th>  Prob (F-statistic):</th>  <td>  0.00</td>  \n",
       "</tr>\n",
       "<tr>\n",
       "  <th>Time:</th>                 <td>01:08:10</td>     <th>  Log-Likelihood:    </th> <td> -8367.4</td> \n",
       "</tr>\n",
       "<tr>\n",
       "  <th>No. Observations:</th>      <td>160807</td>      <th>  AIC:               </th> <td>1.674e+04</td>\n",
       "</tr>\n",
       "<tr>\n",
       "  <th>Df Residuals:</th>          <td>160803</td>      <th>  BIC:               </th> <td>1.678e+04</td>\n",
       "</tr>\n",
       "<tr>\n",
       "  <th>Df Model:</th>              <td>     3</td>      <th>                     </th>     <td> </td>    \n",
       "</tr>\n",
       "<tr>\n",
       "  <th>Covariance Type:</th>      <td>nonrobust</td>    <th>                     </th>     <td> </td>    \n",
       "</tr>\n",
       "</table>\n",
       "<table class=\"simpletable\">\n",
       "<tr>\n",
       "                <td></td>                  <th>coef</th>     <th>std err</th>      <th>t</th>      <th>P>|t|</th>  <th>[0.025</th>    <th>0.975]</th>  \n",
       "</tr>\n",
       "<tr>\n",
       "  <th>const</th>                        <td>   -0.7291</td> <td>    0.004</td> <td> -168.750</td> <td> 0.000</td> <td>   -0.738</td> <td>   -0.721</td>\n",
       "</tr>\n",
       "<tr>\n",
       "  <th>Mean_Ozone_Concentration</th>     <td>   -3.7356</td> <td>    0.135</td> <td>  -27.634</td> <td> 0.000</td> <td>   -4.001</td> <td>   -3.471</td>\n",
       "</tr>\n",
       "<tr>\n",
       "  <th>Max_Ozone_Value</th>              <td>   22.6862</td> <td>    0.122</td> <td>  186.539</td> <td> 0.000</td> <td>   22.448</td> <td>   22.925</td>\n",
       "</tr>\n",
       "<tr>\n",
       "  <th>Hour_Max_Ozone_Concentration</th> <td>    0.0020</td> <td>    0.000</td> <td>    5.549</td> <td> 0.000</td> <td>    0.001</td> <td>    0.003</td>\n",
       "</tr>\n",
       "</table>\n",
       "<table class=\"simpletable\">\n",
       "<tr>\n",
       "  <th>Omnibus:</th>       <td>17748.021</td> <th>  Durbin-Watson:     </th> <td>   2.005</td> \n",
       "</tr>\n",
       "<tr>\n",
       "  <th>Prob(Omnibus):</th>  <td> 0.000</td>   <th>  Jarque-Bera (JB):  </th> <td>24339.933</td>\n",
       "</tr>\n",
       "<tr>\n",
       "  <th>Skew:</th>           <td> 0.949</td>   <th>  Prob(JB):          </th> <td>    0.00</td> \n",
       "</tr>\n",
       "<tr>\n",
       "  <th>Kurtosis:</th>       <td> 3.183</td>   <th>  Cond. No.          </th> <td>2.93e+03</td> \n",
       "</tr>\n",
       "</table><br/><br/>Notes:<br/>[1] Standard Errors assume that the covariance matrix of the errors is correctly specified.<br/>[2] The condition number is large, 2.93e+03. This might indicate that there are<br/>strong multicollinearity or other numerical problems."
      ],
      "text/plain": [
       "<class 'statsmodels.iolib.summary.Summary'>\n",
       "\"\"\"\n",
       "                            OLS Regression Results                            \n",
       "==============================================================================\n",
       "Dep. Variable:              AQI_Range   R-squared:                       0.422\n",
       "Model:                            OLS   Adj. R-squared:                  0.422\n",
       "Method:                 Least Squares   F-statistic:                 3.906e+04\n",
       "Date:                Mon, 23 Oct 2023   Prob (F-statistic):               0.00\n",
       "Time:                        01:08:10   Log-Likelihood:                -8367.4\n",
       "No. Observations:              160807   AIC:                         1.674e+04\n",
       "Df Residuals:                  160803   BIC:                         1.678e+04\n",
       "Df Model:                           3                                         \n",
       "Covariance Type:            nonrobust                                         \n",
       "================================================================================================\n",
       "                                   coef    std err          t      P>|t|      [0.025      0.975]\n",
       "------------------------------------------------------------------------------------------------\n",
       "const                           -0.7291      0.004   -168.750      0.000      -0.738      -0.721\n",
       "Mean_Ozone_Concentration        -3.7356      0.135    -27.634      0.000      -4.001      -3.471\n",
       "Max_Ozone_Value                 22.6862      0.122    186.539      0.000      22.448      22.925\n",
       "Hour_Max_Ozone_Concentration     0.0020      0.000      5.549      0.000       0.001       0.003\n",
       "==============================================================================\n",
       "Omnibus:                    17748.021   Durbin-Watson:                   2.005\n",
       "Prob(Omnibus):                  0.000   Jarque-Bera (JB):            24339.933\n",
       "Skew:                           0.949   Prob(JB):                         0.00\n",
       "Kurtosis:                       3.183   Cond. No.                     2.93e+03\n",
       "==============================================================================\n",
       "\n",
       "Notes:\n",
       "[1] Standard Errors assume that the covariance matrix of the errors is correctly specified.\n",
       "[2] The condition number is large, 2.93e+03. This might indicate that there are\n",
       "strong multicollinearity or other numerical problems.\n",
       "\"\"\""
      ]
     },
     "execution_count": 15,
     "metadata": {},
     "output_type": "execute_result"
    }
   ],
   "source": [
    "# Add a constant term to the training data for statsmodels OLS regression\n",
    "X_train_sm = sm.add_constant(X_train)\n",
    "\n",
    "# Fit an OLS regression model using statsmodels\n",
    "model_sm = sm.OLS(y_train, X_train_sm).fit()\n",
    "\n",
    "# Display the summary of the OLS regression model\n",
    "model_sm.summary()"
   ]
  },
  {
   "cell_type": "code",
   "execution_count": 16,
   "metadata": {},
   "outputs": [
    {
     "data": {
      "text/plain": [
       "array([[34993,     0],\n",
       "       [ 2758,  2451]])"
      ]
     },
     "execution_count": 16,
     "metadata": {},
     "output_type": "execute_result"
    }
   ],
   "source": [
    "# Calculate and display a confusion matrix\n",
    "from sklearn.metrics import confusion_matrix\n",
    "confusion_matrix(y_test, y_pred)"
   ]
  },
  {
   "cell_type": "code",
   "execution_count": 17,
   "metadata": {},
   "outputs": [
    {
     "data": {
      "image/png": "[encoded data removed]",
      "text/plain": [
       "<Figure size 1440x720 with 2 Axes>"
      ]
     },
     "metadata": {
      "needs_background": "light"
     },
     "output_type": "display_data"
    }
   ],
   "source": [
    "# Create a heatmap of the confusion matrix for visualization\n",
    "cm = confusion_matrix(y_test, y_pred)\n",
    "sns.heatmap(cm, annot=True, fmt=\"d\", cmap=\"Blues\")\n",
    "plt.xlabel(\"Predicted\")\n",
    "plt.ylabel(\"Actual\")\n",
    "plt.title(\"Confusion Matrix\")\n",
    "plt.show()"
   ]
  },
  {
   "cell_type": "code",
   "execution_count": null,
   "metadata": {},
   "outputs": [],
   "source": []
  }
 ],
 "metadata": {
  "kernelspec": {
   "display_name": "Python 3 (ipykernel)",
   "language": "python",
   "name": "python3"
  },
  "language_info": {
   "codemirror_mode": {
    "name": "ipython",
    "version": 3
   },
   "file_extension": ".py",
   "mimetype": "text/x-python",
   "name": "python",
   "nbconvert_exporter": "python",
   "pygments_lexer": "ipython3",
   "version": "3.9.12"
  }
 },
 "nbformat": 4,
 "nbformat_minor": 4
}
